{
  "nbformat": 4,
  "nbformat_minor": 0,
  "metadata": {
    "kernelspec": {
      "display_name": "Python 3",
      "language": "python",
      "name": "python3"
    },
    "language_info": {
      "codemirror_mode": {
        "name": "ipython",
        "version": 3
      },
      "file_extension": ".py",
      "mimetype": "text/x-python",
      "name": "python",
      "nbconvert_exporter": "python",
      "pygments_lexer": "ipython3",
      "version": "3.5.2"
    },
    "varInspector": {
      "cols": {
        "lenName": 16,
        "lenType": 16,
        "lenVar": 40
      },
      "kernels_config": {
        "python": {
          "delete_cmd_postfix": "",
          "delete_cmd_prefix": "del ",
          "library": "var_list.py",
          "varRefreshCmd": "print(var_dic_list())"
        },
        "r": {
          "delete_cmd_postfix": ") ",
          "delete_cmd_prefix": "rm(",
          "library": "var_list.r",
          "varRefreshCmd": "cat(var_dic_list()) "
        }
      },
      "types_to_exclude": [
        "module",
        "function",
        "builtin_function_or_method",
        "instance",
        "_Feature"
      ],
      "window_display": false
    },
    "colab": {
      "name": "Python basic.ipynb_python",
      "provenance": [],
      "collapsed_sections": [],
      "include_colab_link": true
    }
  },
  "cells": [
    {
      "cell_type": "markdown",
      "metadata": {
        "id": "view-in-github",
        "colab_type": "text"
      },
      "source": [
        "<a href=\"https://colab.research.google.com/github/jstrend/lecture/blob/main/Python_basic_ipynb_python.ipynb\" target=\"_parent\"><img src=\"https://colab.research.google.com/assets/colab-badge.svg\" alt=\"Open In Colab\"/></a>"
      ]
    },
    {
      "cell_type": "markdown",
      "metadata": {
        "id": "o76ShjzjdG3E"
      },
      "source": [
        "## 1. 숫자"
      ]
    },
    {
      "cell_type": "markdown",
      "metadata": {
        "id": "PNW8dY7pdG3G"
      },
      "source": [
        " - 기본 연산자 : `+, -, *, /`"
      ]
    },
    {
      "cell_type": "code",
      "metadata": {
        "id": "N84lDgLbdG3H",
        "colab": {
          "base_uri": "https://localhost:8080/"
        },
        "outputId": "c34935a0-37ff-4b4e-c3b7-0802e7065924"
      },
      "source": [
        "print(2 + 2)"
      ],
      "execution_count": null,
      "outputs": [
        {
          "output_type": "stream",
          "name": "stdout",
          "text": [
            "4\n"
          ]
        }
      ]
    },
    {
      "cell_type": "code",
      "metadata": {
        "id": "d95YO7WWdG3O",
        "colab": {
          "base_uri": "https://localhost:8080/"
        },
        "outputId": "42818bfa-32c4-4691-c19f-53c17df9ec67"
      },
      "source": [
        "print(50 - 5 * 6)"
      ],
      "execution_count": null,
      "outputs": [
        {
          "output_type": "stream",
          "name": "stdout",
          "text": [
            "20\n"
          ]
        }
      ]
    },
    {
      "cell_type": "code",
      "metadata": {
        "id": "4akmtXOQdG3S",
        "colab": {
          "base_uri": "https://localhost:8080/"
        },
        "outputId": "0a482e97-373c-4685-f72c-2383889becc2"
      },
      "source": [
        "print((50 - 5 * 6) / 4) # always return float type"
      ],
      "execution_count": null,
      "outputs": [
        {
          "output_type": "stream",
          "name": "stdout",
          "text": [
            "5.0\n"
          ]
        }
      ]
    },
    {
      "cell_type": "markdown",
      "metadata": {
        "id": "Mnd_WpbXdG3W"
      },
      "source": [
        " - 거듭제곱(`**`),  몫(`//`),   나머지(`%`)"
      ]
    },
    {
      "cell_type": "code",
      "metadata": {
        "id": "uuRP1ISJdG3X",
        "colab": {
          "base_uri": "https://localhost:8080/"
        },
        "outputId": "e1bbb7cd-6be4-4724-d707-acf4f6185fa8"
      },
      "source": [
        "print(5 ** 2)"
      ],
      "execution_count": null,
      "outputs": [
        {
          "output_type": "stream",
          "name": "stdout",
          "text": [
            "25\n"
          ]
        }
      ]
    },
    {
      "cell_type": "code",
      "metadata": {
        "id": "eGR8YLDhdG3a",
        "colab": {
          "base_uri": "https://localhost:8080/"
        },
        "outputId": "dc6f2de7-17ae-4c35-8784-4ba797d422e0"
      },
      "source": [
        "print(17 // 3)"
      ],
      "execution_count": null,
      "outputs": [
        {
          "output_type": "stream",
          "name": "stdout",
          "text": [
            "5\n"
          ]
        }
      ]
    },
    {
      "cell_type": "code",
      "source": [
        "print(17 % 3)"
      ],
      "metadata": {
        "id": "BMThGiHs0xdS"
      },
      "execution_count": null,
      "outputs": []
    },
    {
      "cell_type": "code",
      "metadata": {
        "id": "neLdUW69dG3d",
        "colab": {
          "base_uri": "https://localhost:8080/"
        },
        "outputId": "952414be-42d1-44c0-b7e2-6b70e98d84b0"
      },
      "source": [
        "a=1\n",
        "b=2.0\n",
        "print(a*b)"
      ],
      "execution_count": null,
      "outputs": [
        {
          "output_type": "stream",
          "name": "stdout",
          "text": [
            "2.0\n"
          ]
        }
      ]
    },
    {
      "cell_type": "markdown",
      "metadata": {
        "id": "bOyA8tDdxPfy"
      },
      "source": [
        " ## 2. Boolean 논리연산자\n",
        "\n"
      ]
    },
    {
      "cell_type": "code",
      "metadata": {
        "id": "6SzSV8Tdxm34",
        "colab": {
          "base_uri": "https://localhost:8080/"
        },
        "outputId": "5d59b1b3-5198-4a0c-d9c0-5bfaa2c225d6"
      },
      "source": [
        "t = True\n",
        "f = False\n",
        "print(type(t)) # Prints \"<class 'bool'>\"\n",
        "print(t and f) # Logical AND; prints \"False\"\n",
        "print(t or f)  # Logical OR; prints \"True\"\n",
        "print(not t)   # Logical NOT; prints \"False\"\n",
        "print(t != f)  # Logical XOR; prints \"True\""
      ],
      "execution_count": null,
      "outputs": [
        {
          "output_type": "stream",
          "name": "stdout",
          "text": [
            "<class 'bool'>\n",
            "False\n",
            "True\n",
            "False\n",
            "True\n"
          ]
        }
      ]
    },
    {
      "cell_type": "markdown",
      "metadata": {
        "id": "MBRE2Jm_xyM9"
      },
      "source": [
        "##3. String"
      ]
    },
    {
      "cell_type": "code",
      "metadata": {
        "id": "_dnfjchlx74O",
        "colab": {
          "base_uri": "https://localhost:8080/"
        },
        "outputId": "c6736a0b-1d1e-4647-9d49-c6b696362800"
      },
      "source": [
        "s = \"hello\"\n",
        "print(s)\n",
        "print(len(s))          # string length\n",
        "print(s.capitalize())  # Capitalize a string; prints \"Hello\"\n",
        "print(s.upper())       # Convert a string to uppercase; prints \"HELLO\"\n",
        "print(s.rjust(10))      # Right-justify a string, padding with spaces; prints \"  hello\"\n",
        "print('1234567890')\n",
        "print(s.center(10))     # Center a string, padding with spaces; prints \" hello \"\n",
        "print(s.replace('l', '(ell)'))  # Replace all instances of one substring with another;\n",
        "                                # prints \"he(ell)(ell)o\"\n",
        "print('  world '.strip())  # Strip leading and trailing whitespace; prints \"world\""
      ],
      "execution_count": null,
      "outputs": [
        {
          "output_type": "stream",
          "name": "stdout",
          "text": [
            "hello\n",
            "5\n",
            "Hello\n",
            "HELLO\n",
            "     hello\n",
            "1234567890\n",
            "  hello   \n",
            "he(ell)(ell)o\n",
            "world\n"
          ]
        }
      ]
    },
    {
      "cell_type": "markdown",
      "metadata": {
        "id": "OfsvI2-edG3g"
      },
      "source": [
        "## 4. 자료구조 : 리스트, 딕셔너리, 튜플, 세트"
      ]
    },
    {
      "cell_type": "markdown",
      "metadata": {
        "id": "G95zNDsPdG3g"
      },
      "source": [
        "- 다른 값들을 덩어리로 묶는데 사용하는 여러가지 컴파운드 자료형 지원"
      ]
    },
    {
      "cell_type": "markdown",
      "metadata": {
        "id": "u7UG5ijLdG3h"
      },
      "source": [
        "### 4-1. 리스트\n",
        "   - 대괄호(`[]`) 사이에 쉼표로 구분된 값들의 목록으로 표현되는 시퀀스(sequence) 자료형, 서로다른 항목 가능 \n",
        "   - 문자열과 같이 숫자로 인덱싱, 슬라이스 연산 및 개별 요소 수정도 가능(가변)\n",
        "   - 이어붙이기 연산도 지원\n",
        "   - 주요 함수(메서드) `append, pop` ref) https://docs.python.org/ko/3/tutorial/datastructures.html"
      ]
    },
    {
      "cell_type": "code",
      "metadata": {
        "id": "-1l0K5SUdG3i"
      },
      "source": [
        "squares1 = [1, 4, 9, 16, 25]"
      ],
      "execution_count": null,
      "outputs": []
    },
    {
      "cell_type": "code",
      "metadata": {
        "id": "HAtDNAkBdG3l",
        "colab": {
          "base_uri": "https://localhost:8080/"
        },
        "outputId": "277dc778-3c5c-439e-972d-4869e71a5797"
      },
      "source": [
        "print(squares1)"
      ],
      "execution_count": null,
      "outputs": [
        {
          "output_type": "stream",
          "name": "stdout",
          "text": [
            "[1, 4, 9, 16, 25]\n"
          ]
        }
      ]
    },
    {
      "cell_type": "code",
      "metadata": {
        "id": "31xH6EaldG3n"
      },
      "source": [
        "squares1[0] = 0  # 0번 자리에 1대신에 0으로 수정"
      ],
      "execution_count": null,
      "outputs": []
    },
    {
      "cell_type": "code",
      "metadata": {
        "id": "l2uRmw55dG3q",
        "colab": {
          "base_uri": "https://localhost:8080/"
        },
        "outputId": "867e5858-d88a-4531-d782-d8b20dbab096"
      },
      "source": [
        "print(squares1)"
      ],
      "execution_count": null,
      "outputs": [
        {
          "output_type": "stream",
          "name": "stdout",
          "text": [
            "[0, 4, 9, 16, 25, '36', '36']\n"
          ]
        }
      ]
    },
    {
      "cell_type": "code",
      "metadata": {
        "id": "ijb-02kTdG3s"
      },
      "source": [
        "squares2 = ['a', 1]"
      ],
      "execution_count": null,
      "outputs": []
    },
    {
      "cell_type": "code",
      "metadata": {
        "id": "sCEK6n3-dG3u",
        "colab": {
          "base_uri": "https://localhost:8080/"
        },
        "outputId": "860c99ec-6a63-40b9-df07-409dce56943f"
      },
      "source": [
        "print(squares2)"
      ],
      "execution_count": null,
      "outputs": [
        {
          "output_type": "stream",
          "name": "stdout",
          "text": [
            "['a', 1]\n"
          ]
        }
      ]
    },
    {
      "cell_type": "code",
      "metadata": {
        "id": "NCikddg0dG3x",
        "colab": {
          "base_uri": "https://localhost:8080/"
        },
        "outputId": "15f7e8e8-927a-488f-fc88-b230986531df"
      },
      "source": [
        "print(squares1+squares2)"
      ],
      "execution_count": null,
      "outputs": [
        {
          "output_type": "stream",
          "name": "stdout",
          "text": [
            "[0, 4, 9, 16, 25, '36', '36', 'a', 1]\n"
          ]
        }
      ]
    },
    {
      "cell_type": "code",
      "metadata": {
        "id": "gfIYxdgidG30"
      },
      "source": [
        "squares1.append('36') # append는 맨 끝 squres1에 '36'이라는 string 추가"
      ],
      "execution_count": null,
      "outputs": []
    },
    {
      "cell_type": "code",
      "metadata": {
        "id": "St0GxlMmdG32",
        "colab": {
          "base_uri": "https://localhost:8080/"
        },
        "outputId": "38b2f90f-5445-4bee-d067-d4339be451f4"
      },
      "source": [
        "print(squares1)"
      ],
      "execution_count": null,
      "outputs": [
        {
          "output_type": "stream",
          "name": "stdout",
          "text": [
            "[0, 4, 9, 16, 25, '36', '36', '36']\n"
          ]
        }
      ]
    },
    {
      "cell_type": "code",
      "metadata": {
        "id": "GlihclSidG35",
        "colab": {
          "base_uri": "https://localhost:8080/"
        },
        "outputId": "a5928c33-b427-4c4f-f1a6-644463c94a71"
      },
      "source": [
        "print(squares2.pop()) # 맨 마지막을 뽑아내기가 pop"
      ],
      "execution_count": null,
      "outputs": [
        {
          "output_type": "stream",
          "name": "stdout",
          "text": [
            "1\n"
          ]
        }
      ]
    },
    {
      "cell_type": "code",
      "metadata": {
        "id": "Cp6-QctgdG37",
        "colab": {
          "base_uri": "https://localhost:8080/"
        },
        "outputId": "9671626a-5a8a-4490-b676-e5be1de24558"
      },
      "source": [
        "print(squares2)"
      ],
      "execution_count": null,
      "outputs": [
        {
          "output_type": "stream",
          "name": "stdout",
          "text": [
            "['a']\n"
          ]
        }
      ]
    },
    {
      "cell_type": "markdown",
      "metadata": {
        "id": "0Gskcq4MdG39"
      },
      "source": [
        "### 4-2. 딕셔너리\n",
        "  - 중복되지 않는다는 제약조건을 가진 키:값 쌍의 집합\n",
        "  - 중괄호(`{}`) 안에 쉽료로 분리된 키:값 쌍들의 목록을 넣어 정의\n",
        "  - 키(불변)로 인덱싱 및 인덱싱된 값(가변) 수정 가능\n",
        "  - 주요 함수(메서드) `del, items, keys, values`"
      ]
    },
    {
      "cell_type": "code",
      "metadata": {
        "id": "bOWA8lkzdG39"
      },
      "source": [
        "tel1 = {'jack': 4098, 'sape': 4139}\n",
        "tel2 = dict(sape=4139, guido=4127, jack=4098) #딕셔너리 구조를 만들어주는 두가지 방법"
      ],
      "execution_count": null,
      "outputs": []
    },
    {
      "cell_type": "code",
      "metadata": {
        "id": "mATRxYSmdG4A",
        "colab": {
          "base_uri": "https://localhost:8080/"
        },
        "outputId": "1d1f9e07-9628-47f2-ca63-562c44542a87"
      },
      "source": [
        "print(tel1, tel2)"
      ],
      "execution_count": null,
      "outputs": [
        {
          "output_type": "stream",
          "name": "stdout",
          "text": [
            "{'jack': 4098, 'sape': 4139} {'sape': 4139, 'guido': 4127, 'jack': 4098}\n"
          ]
        }
      ]
    },
    {
      "cell_type": "code",
      "metadata": {
        "id": "0mOz2BlgdG4C"
      },
      "source": [
        "print(tel1['jack'])"
      ],
      "execution_count": null,
      "outputs": []
    },
    {
      "cell_type": "code",
      "metadata": {
        "id": "ORC1bLFRdG4E"
      },
      "source": [
        "tel1['jack'] = 5098 # 업데이트"
      ],
      "execution_count": null,
      "outputs": []
    },
    {
      "cell_type": "code",
      "metadata": {
        "id": "fngPfpYKdG4G",
        "colab": {
          "base_uri": "https://localhost:8080/"
        },
        "outputId": "fa05da8e-301c-4263-de6e-36e8377b46ee"
      },
      "source": [
        "print(tel1)"
      ],
      "execution_count": null,
      "outputs": [
        {
          "output_type": "stream",
          "name": "stdout",
          "text": [
            "{'jack': 5098, 'sape': 4139}\n"
          ]
        }
      ]
    },
    {
      "cell_type": "code",
      "metadata": {
        "id": "15DZJ_KAdG4I"
      },
      "source": [
        "tel1['guido'] = 4127 # 업데이트"
      ],
      "execution_count": null,
      "outputs": []
    },
    {
      "cell_type": "code",
      "metadata": {
        "id": "ZfxsCtDBdG4L",
        "colab": {
          "base_uri": "https://localhost:8080/"
        },
        "outputId": "27acb3f7-197b-429f-bb4c-56e3c551d321"
      },
      "source": [
        "print(tel1)"
      ],
      "execution_count": null,
      "outputs": [
        {
          "output_type": "stream",
          "name": "stdout",
          "text": [
            "{'jack': 5098, 'sape': 4139, 'guido': 4127}\n"
          ]
        }
      ]
    },
    {
      "cell_type": "code",
      "metadata": {
        "id": "Lbu_0FLvdG4N"
      },
      "source": [
        "del(tel1['sape']) # 지우기 가능"
      ],
      "execution_count": null,
      "outputs": []
    },
    {
      "cell_type": "code",
      "metadata": {
        "id": "fW6wi5P2dG4P",
        "colab": {
          "base_uri": "https://localhost:8080/"
        },
        "outputId": "c8fc788e-849e-432d-8e8b-6aecf0d0c056"
      },
      "source": [
        "print(tel1) "
      ],
      "execution_count": null,
      "outputs": [
        {
          "output_type": "stream",
          "name": "stdout",
          "text": [
            "{'jack': 5098, 'sape': 4139, 'guido': 4127}\n"
          ]
        }
      ]
    },
    {
      "cell_type": "code",
      "metadata": {
        "id": "aL7BXT3pdG4S",
        "colab": {
          "base_uri": "https://localhost:8080/"
        },
        "outputId": "21d4bf9e-e5dd-48cc-d313-1c74bc1335b1"
      },
      "source": [
        "print(tel1.items()) # 전체적으로 보기"
      ],
      "execution_count": null,
      "outputs": [
        {
          "output_type": "stream",
          "name": "stdout",
          "text": [
            "dict_items([('jack', 5098), ('sape', 4139), ('guido', 4127)])\n"
          ]
        }
      ]
    },
    {
      "cell_type": "code",
      "metadata": {
        "id": "J3LheW76dG4U",
        "colab": {
          "base_uri": "https://localhost:8080/"
        },
        "outputId": "658091af-f9f4-47d2-eb66-6dc570fc7d2c"
      },
      "source": [
        "print(tel1.keys()) #항목만"
      ],
      "execution_count": null,
      "outputs": [
        {
          "output_type": "stream",
          "name": "stdout",
          "text": [
            "dict_keys(['jack', 'sape', 'guido'])\n"
          ]
        }
      ]
    },
    {
      "cell_type": "markdown",
      "metadata": {
        "id": "kd0JkNuqdG4W"
      },
      "source": [
        "### 4-3. 튜플\n",
        "  - 쉼표로 구분되는 여러값으로 구성되는 시퀀스(sequence) 자료형\n",
        "  - 소괄호(`()`) 안에 쉽료로 구성요소를 분리하여 입력\n",
        "  - 튜플안 요소들은 인덱싱, 언팩킹으로 활용 및 접근 가능하나 불변 자료형이므로 슬라이싱과 개별요소의 수정은 불가\n",
        "      - 단) 개별요소가 리스트와 같이 가변형 자료일 경우 수정 가능"
      ]
    },
    {
      "cell_type": "code",
      "metadata": {
        "id": "0n9dveeKdG4W"
      },
      "source": [
        "t = (12345, 54321, 'hello!')"
      ],
      "execution_count": null,
      "outputs": []
    },
    {
      "cell_type": "code",
      "metadata": {
        "id": "vqSFtttzdG4Z",
        "colab": {
          "base_uri": "https://localhost:8080/"
        },
        "outputId": "65bffb5a-55e0-41c4-8709-44765246ac08"
      },
      "source": [
        "print(t)"
      ],
      "execution_count": null,
      "outputs": [
        {
          "output_type": "stream",
          "name": "stdout",
          "text": [
            "(12345, 54321, 'hello!')\n"
          ]
        }
      ]
    },
    {
      "cell_type": "code",
      "metadata": {
        "id": "GUIf0xBAdG4b",
        "colab": {
          "base_uri": "https://localhost:8080/"
        },
        "outputId": "4f265e45-9519-4d89-e21e-d35db8dca8c9"
      },
      "source": [
        "print(t[0])"
      ],
      "execution_count": null,
      "outputs": [
        {
          "output_type": "stream",
          "name": "stdout",
          "text": [
            "12345\n"
          ]
        }
      ]
    },
    {
      "cell_type": "code",
      "metadata": {
        "id": "V1oh9GwfdG4d"
      },
      "source": [
        "u = t, (1, 2, 3, 4, 5)"
      ],
      "execution_count": null,
      "outputs": []
    },
    {
      "cell_type": "code",
      "metadata": {
        "id": "jALbisIndG4g",
        "colab": {
          "base_uri": "https://localhost:8080/"
        },
        "outputId": "63dfceb9-94d1-43d6-ec6c-a1c618dd9be9"
      },
      "source": [
        "print(u)"
      ],
      "execution_count": null,
      "outputs": [
        {
          "output_type": "stream",
          "name": "stdout",
          "text": [
            "((12345, 54321, 'hello!'), (1, 2, 3, 4, 5))\n"
          ]
        }
      ]
    },
    {
      "cell_type": "code",
      "metadata": {
        "id": "D9SKk5-ZdG4i"
      },
      "source": [
        "v = (1, 2, 3, 4, 5)"
      ],
      "execution_count": null,
      "outputs": []
    },
    {
      "cell_type": "code",
      "metadata": {
        "id": "N5-DXh2YdG4k",
        "colab": {
          "base_uri": "https://localhost:8080/",
          "height": 174
        },
        "outputId": "4c55dc9f-726f-4465-9b8e-0687ed2250c7"
      },
      "source": [
        "v[0] = 5 # 업데이트 불가능하다는 에러 볼수(참조만) 가능"
      ],
      "execution_count": null,
      "outputs": [
        {
          "output_type": "error",
          "ename": "TypeError",
          "evalue": "ignored",
          "traceback": [
            "\u001b[0;31m---------------------------------------------------------------------------\u001b[0m",
            "\u001b[0;31mTypeError\u001b[0m                                 Traceback (most recent call last)",
            "\u001b[0;32m<ipython-input-39-b63cfd5ceacc>\u001b[0m in \u001b[0;36m<module>\u001b[0;34m()\u001b[0m\n\u001b[0;32m----> 1\u001b[0;31m \u001b[0mv\u001b[0m\u001b[0;34m[\u001b[0m\u001b[0;36m0\u001b[0m\u001b[0;34m]\u001b[0m \u001b[0;34m=\u001b[0m \u001b[0;36m5\u001b[0m\u001b[0;34m\u001b[0m\u001b[0;34m\u001b[0m\u001b[0m\n\u001b[0m",
            "\u001b[0;31mTypeError\u001b[0m: 'tuple' object does not support item assignment"
          ]
        }
      ]
    },
    {
      "cell_type": "code",
      "metadata": {
        "id": "Gi_PyfB8dG4n"
      },
      "source": [
        "w = ([1, 2, 3], [3, 2, 1]) # 요소는 없앨수 없지만 요소의 리스트는 변경가능"
      ],
      "execution_count": null,
      "outputs": []
    },
    {
      "cell_type": "code",
      "metadata": {
        "id": "vo4jQX11dG4p",
        "colab": {
          "base_uri": "https://localhost:8080/"
        },
        "outputId": "8bd1bd90-16c0-42c3-fd3a-6acc3f046246"
      },
      "source": [
        "print(w)"
      ],
      "execution_count": null,
      "outputs": [
        {
          "output_type": "stream",
          "name": "stdout",
          "text": [
            "([1, 2, 3], [3, 2, 1])\n"
          ]
        }
      ]
    },
    {
      "cell_type": "code",
      "metadata": {
        "id": "wZjIEoZOdG4r"
      },
      "source": [
        "w[0][1] = 0  #첫번째 요소에 두번째 자료는 수정가능"
      ],
      "execution_count": null,
      "outputs": []
    },
    {
      "cell_type": "code",
      "metadata": {
        "id": "os4geel2dG4v",
        "colab": {
          "base_uri": "https://localhost:8080/"
        },
        "outputId": "b16b5bb5-d8a6-4bbd-aa5e-a7a60f589a68"
      },
      "source": [
        "print(w)"
      ],
      "execution_count": null,
      "outputs": [
        {
          "output_type": "stream",
          "name": "stdout",
          "text": [
            "([1, 0, 3], [3, 2, 1])\n"
          ]
        }
      ]
    },
    {
      "cell_type": "markdown",
      "source": [
        "### 4-4. 세트\n",
        "  - 집합연산에 사용되는 자료구조\n",
        "  - 원소의 중복을 허락하지 않음 중복되면 하나면 표시\n",
        "  - 딕셔너리처럼 키가 보이지 않음\n"
      ],
      "metadata": {
        "id": "R8TnY_8wPv0q"
      }
    },
    {
      "cell_type": "code",
      "source": [
        " a = set([0,0,0,1,2,3]) # 정의와 요소한번에\n",
        " print(a)"
      ],
      "metadata": {
        "id": "xNKpSINuQV1T",
        "outputId": "a3bd7855-02e3-40cc-d423-6191435c63d8",
        "colab": {
          "base_uri": "https://localhost:8080/"
        }
      },
      "execution_count": null,
      "outputs": [
        {
          "output_type": "stream",
          "name": "stdout",
          "text": [
            "{0, 1, 2, 3}\n"
          ]
        }
      ]
    },
    {
      "cell_type": "code",
      "source": [
        "b = set()\n",
        "b = {1,3,3,3,4,5,5,6} # 정의와 요소 각각\n",
        "print(b)"
      ],
      "metadata": {
        "id": "Bt_yrA5KQgZx",
        "outputId": "169a8807-8582-491b-9897-d8bb278f6f01",
        "colab": {
          "base_uri": "https://localhost:8080/"
        }
      },
      "execution_count": null,
      "outputs": [
        {
          "output_type": "stream",
          "name": "stdout",
          "text": [
            "{1, 3, 4, 5, 6}\n"
          ]
        }
      ]
    },
    {
      "cell_type": "code",
      "source": [
        "inter1 = a & b #교집합\n",
        "print(inter1)\n",
        "inter2 = a.intersection(b) #교집합\n",
        "print(inter2)"
      ],
      "metadata": {
        "id": "WYu9p9_LQqJs",
        "outputId": "221a3f53-f483-40de-ad1e-80310dbca835",
        "colab": {
          "base_uri": "https://localhost:8080/"
        }
      },
      "execution_count": null,
      "outputs": [
        {
          "output_type": "stream",
          "name": "stdout",
          "text": [
            "{1, 3}\n",
            "{1, 3}\n"
          ]
        }
      ]
    },
    {
      "cell_type": "code",
      "source": [
        "union1 = a | b #합집합\n",
        "print(union1)\n",
        "union2 = a.union(b) #합집합\n",
        "print(union2)"
      ],
      "metadata": {
        "id": "rnXqH3wpQ70-",
        "outputId": "643fe9fa-b2ce-4c75-e743-bbbb5a5e95a6",
        "colab": {
          "base_uri": "https://localhost:8080/"
        }
      },
      "execution_count": null,
      "outputs": [
        {
          "output_type": "stream",
          "name": "stdout",
          "text": [
            "{0, 1, 2, 3, 4, 5, 6}\n",
            "{0, 1, 2, 3, 4, 5, 6}\n"
          ]
        }
      ]
    },
    {
      "cell_type": "code",
      "source": [
        "sub1 = a - b # 차집합\n",
        "print(sub1)\n",
        "sub2 = a.difference(b) # 차집합\n",
        "print(sub2)"
      ],
      "metadata": {
        "id": "1zdikxtyRQ2w",
        "outputId": "e62b8fb9-3857-4293-cf07-3f68b646a3cd",
        "colab": {
          "base_uri": "https://localhost:8080/"
        }
      },
      "execution_count": null,
      "outputs": [
        {
          "output_type": "stream",
          "name": "stdout",
          "text": [
            "{0, 2}\n",
            "{0, 2}\n"
          ]
        }
      ]
    },
    {
      "cell_type": "code",
      "source": [
        "a.add(8)\n",
        "print(a)\n",
        "a.remove(8) \n",
        "print(a)\n",
        "a.discard(8) # 지우는 항목이 없어도 OK\n",
        "a.remove(8) # 지우는 항목이 없으면 에러"
      ],
      "metadata": {
        "id": "sGy1yzFhRwbz",
        "outputId": "fea17f33-4d2b-4368-d324-ec3c4494f5f7",
        "colab": {
          "base_uri": "https://localhost:8080/",
          "height": 248
        }
      },
      "execution_count": null,
      "outputs": [
        {
          "output_type": "stream",
          "name": "stdout",
          "text": [
            "{0, 1, 2, 3, 8}\n",
            "{0, 1, 2, 3}\n"
          ]
        },
        {
          "output_type": "error",
          "ename": "KeyError",
          "evalue": "ignored",
          "traceback": [
            "\u001b[0;31m---------------------------------------------------------------------------\u001b[0m",
            "\u001b[0;31mKeyError\u001b[0m                                  Traceback (most recent call last)",
            "\u001b[0;32m<ipython-input-46-89e8e081b5eb>\u001b[0m in \u001b[0;36m<module>\u001b[0;34m()\u001b[0m\n\u001b[1;32m      4\u001b[0m \u001b[0mprint\u001b[0m\u001b[0;34m(\u001b[0m\u001b[0ma\u001b[0m\u001b[0;34m)\u001b[0m\u001b[0;34m\u001b[0m\u001b[0;34m\u001b[0m\u001b[0m\n\u001b[1;32m      5\u001b[0m \u001b[0ma\u001b[0m\u001b[0;34m.\u001b[0m\u001b[0mdiscard\u001b[0m\u001b[0;34m(\u001b[0m\u001b[0;36m8\u001b[0m\u001b[0;34m)\u001b[0m \u001b[0;31m# 지우는 항목이 없어도 OK\u001b[0m\u001b[0;34m\u001b[0m\u001b[0;34m\u001b[0m\u001b[0m\n\u001b[0;32m----> 6\u001b[0;31m \u001b[0ma\u001b[0m\u001b[0;34m.\u001b[0m\u001b[0mremove\u001b[0m\u001b[0;34m(\u001b[0m\u001b[0;36m8\u001b[0m\u001b[0;34m)\u001b[0m \u001b[0;31m# 지우는 항목이 없으면 에러\u001b[0m\u001b[0;34m\u001b[0m\u001b[0;34m\u001b[0m\u001b[0m\n\u001b[0m",
            "\u001b[0;31mKeyError\u001b[0m: 8"
          ]
        }
      ]
    },
    {
      "cell_type": "markdown",
      "metadata": {
        "id": "VygGc3agdG4x"
      },
      "source": [
        "## 5. 흐름 제어: if, for"
      ]
    },
    {
      "cell_type": "markdown",
      "metadata": {
        "id": "UYINmBkBdG4x"
      },
      "source": [
        "### 5-1. if\n",
        " - `if` 다음의 조건을 판단하여 참인 경우, 선택적으로 실행\n",
        " - 없거나 여러개의 elif 부가 있을 수 있고, else 는 선택적\n",
        " - `if ... elif ...` 로 switch, case 문 대체\n",
        " - 들여쓰기(인덴트)로 같은 명령 구분"
      ]
    },
    {
      "cell_type": "code",
      "metadata": {
        "id": "J4qWHAWOdG4x",
        "colab": {
          "base_uri": "https://localhost:8080/"
        },
        "outputId": "2ab9bb78-865a-49f0-de3e-2f72e59508c0"
      },
      "source": [
        "x = int(input(\"Please enter an integer: \"))"
      ],
      "execution_count": null,
      "outputs": [
        {
          "name": "stdout",
          "output_type": "stream",
          "text": [
            "Please enter an integer: -5\n"
          ]
        }
      ]
    },
    {
      "cell_type": "code",
      "metadata": {
        "id": "_FZGcEREdG40",
        "colab": {
          "base_uri": "https://localhost:8080/"
        },
        "outputId": "2ebec9b3-db16-4f05-a779-769eb34b28c1"
      },
      "source": [
        "if x < 0:\n",
        "    print('Negative')\n",
        "elif x == 0:\n",
        "    print('Zero')\n",
        "elif x == 1:\n",
        "    print('Single')\n",
        "else:\n",
        "    print('More')"
      ],
      "execution_count": null,
      "outputs": [
        {
          "output_type": "stream",
          "name": "stdout",
          "text": [
            "Negative\n"
          ]
        }
      ]
    },
    {
      "cell_type": "markdown",
      "metadata": {
        "id": "-1MBhyRKdG42"
      },
      "source": [
        "### 5-2. for\n",
        "  - 시퀀스 (리스트나 문자열)의 항목들을 그 시퀀스에 들어있는 순서대로 순회하기 위해 사용"
      ]
    },
    {
      "cell_type": "code",
      "metadata": {
        "id": "KhEsXLz1dG43"
      },
      "source": [
        "words = ['cat', 'window', 'defenestrate']"
      ],
      "execution_count": null,
      "outputs": []
    },
    {
      "cell_type": "code",
      "metadata": {
        "id": "bTcBmnQmdG45",
        "colab": {
          "base_uri": "https://localhost:8080/"
        },
        "outputId": "d268fcbf-b5e3-494b-b6d7-a9ee6fef4fad"
      },
      "source": [
        "for w in words:\n",
        "    print(w, len(w))"
      ],
      "execution_count": null,
      "outputs": [
        {
          "output_type": "stream",
          "name": "stdout",
          "text": [
            "cat 3\n",
            "window 6\n",
            "defenestrate 12\n"
          ]
        }
      ]
    },
    {
      "cell_type": "code",
      "metadata": {
        "id": "1oOZzKGudG47",
        "colab": {
          "base_uri": "https://localhost:8080/"
        },
        "outputId": "92c60854-9306-4353-a83b-adf6d35639f6"
      },
      "source": [
        "for i, w in enumerate(words): # 반복되는 횟수 enumerate()\n",
        "    print(i, w)"
      ],
      "execution_count": null,
      "outputs": [
        {
          "output_type": "stream",
          "name": "stdout",
          "text": [
            "0 cat\n",
            "1 window\n",
            "2 defenestrate\n"
          ]
        }
      ]
    },
    {
      "cell_type": "markdown",
      "metadata": {
        "id": "dDOXlgl-dG49"
      },
      "source": [
        "  - 숫자들의 시퀀스로 순회 `range()`사용, `range`는 리스트인 것처럼 동작하나 리스트는 아님 \n",
        "      - ex) `range(start, end, step)`"
      ]
    },
    {
      "cell_type": "code",
      "metadata": {
        "id": "xQT0_AW1dG49",
        "colab": {
          "base_uri": "https://localhost:8080/"
        },
        "outputId": "808fc666-83b1-4e81-e79f-c7b5571edd13"
      },
      "source": [
        "for i in range(5): # 범위만큼 돌고 i에 리턴\n",
        "     print(i)"
      ],
      "execution_count": null,
      "outputs": [
        {
          "output_type": "stream",
          "name": "stdout",
          "text": [
            "0\n",
            "1\n",
            "2\n",
            "3\n",
            "4\n"
          ]
        }
      ]
    },
    {
      "cell_type": "code",
      "metadata": {
        "id": "nJQNAjk8dG5A"
      },
      "source": [
        "for i in [0, 1, 2, 3, 4]:\n",
        "    print(i)"
      ],
      "execution_count": null,
      "outputs": []
    },
    {
      "cell_type": "code",
      "metadata": {
        "id": "RCS_vLO5dG5C"
      },
      "source": [
        "print(range(5))"
      ],
      "execution_count": null,
      "outputs": []
    },
    {
      "cell_type": "code",
      "metadata": {
        "id": "hAKWM1b6dG5F",
        "colab": {
          "base_uri": "https://localhost:8080/"
        },
        "outputId": "1cf86bc9-47b9-4998-e4e1-dff8f98d2409"
      },
      "source": [
        "for i in range(0, 10, 3): #3씩 건너 뛰면서 증가\n",
        "     print(i)"
      ],
      "execution_count": null,
      "outputs": [
        {
          "output_type": "stream",
          "name": "stdout",
          "text": [
            "0\n",
            "3\n",
            "6\n",
            "9\n"
          ]
        }
      ]
    },
    {
      "cell_type": "markdown",
      "metadata": {
        "id": "tp6F9J3cdG5G"
      },
      "source": [
        "## 6. 함수"
      ]
    },
    {
      "cell_type": "markdown",
      "metadata": {
        "id": "d8W_eu97dG5I"
      },
      "source": [
        "  - `def` 키워드로 함수 정의 시작, 함수 이름과 형식 매개변수 목록이 뒤따름, 함수 바디는 들여쓰기 된 다음줄에서 시작, 반환값은 `return` 다음 값\n",
        "  - 함수에서의 모든 변수 대입들은 값을 지역 심볼 테이블에 저장, 함수안 변수 참조 순서는 지역 심볼 테이블 -> 전역 심볼 테이블 -> 내장 이름 테이블\n",
        "  - 함수 인자: 위치 인자, 기본 인자 값, 키워드 인자값\n",
        "  - 하나이상의 값 `return` 가능 ex) `return a, b` : 반환 값은 `(a,b)`의 튜플 형식 "
      ]
    },
    {
      "cell_type": "code",
      "metadata": {
        "id": "vXsPiHt9dG5I"
      },
      "source": [
        "# 위치 인자 기본 인자\n",
        "def add(a, b=2): # def하고 함수명 안에 인자\n",
        "    c = a + b\n",
        "    return c"
      ],
      "execution_count": null,
      "outputs": []
    },
    {
      "cell_type": "code",
      "metadata": {
        "id": "-Id12mKJdG5K",
        "colab": {
          "base_uri": "https://localhost:8080/"
        },
        "outputId": "0b819e82-3df2-4720-e871-e5256e34411e"
      },
      "source": [
        "print(add(2)) # 디폴트 b=2를 사용"
      ],
      "execution_count": null,
      "outputs": [
        {
          "output_type": "stream",
          "name": "stdout",
          "text": [
            "4\n"
          ]
        }
      ]
    },
    {
      "cell_type": "code",
      "metadata": {
        "id": "M29nQCHPdG5O",
        "colab": {
          "base_uri": "https://localhost:8080/"
        },
        "outputId": "be30880a-6907-4ad5-b925-c89220daf988"
      },
      "source": [
        "print(add(2,4)) # 디폴트 b=2있는데, 4를 주어서 사용"
      ],
      "execution_count": null,
      "outputs": [
        {
          "output_type": "stream",
          "name": "stdout",
          "text": [
            "6\n"
          ]
        }
      ]
    },
    {
      "cell_type": "code",
      "metadata": {
        "id": "9xaYZlmAdG5P",
        "colab": {
          "base_uri": "https://localhost:8080/"
        },
        "outputId": "296cccb2-fde9-44b9-94cd-be6442de2e62"
      },
      "source": [
        "print(add(2,b=4))"
      ],
      "execution_count": null,
      "outputs": [
        {
          "output_type": "stream",
          "name": "stdout",
          "text": [
            "6\n"
          ]
        }
      ]
    },
    {
      "cell_type": "markdown",
      "metadata": {
        "id": "e6klAp6CdG5R"
      },
      "source": [
        "## 7. 기타"
      ]
    },
    {
      "cell_type": "markdown",
      "metadata": {
        "id": "t6MPSnnfdG5S"
      },
      "source": [
        "### with 구문\n",
        " - 특별한 컨테스트(리소스)에서 실행함을 나타나는데 사용\n",
        "     - ex) 파일 읽기 쓰기, DB 데이터 조회\n",
        " - 대표적으로 파일이나 소켓과 같은 특정한 리소스에 엑세스 하는 경우 해당 리소스를 열고, 리소스를 회수 반환\n",
        " - with 구문을 활용하면, 특정 블럭내의 동작으로 제한, 블록을 벗어나는 경우 컨텍스트(리소스)가 해제처리를 보장\n",
        " -open하면 close까지는 다른 것 사용 x\n",
        " -with open하면 close없이 자동으로 닫아 줌"
      ]
    },
    {
      "cell_type": "code",
      "metadata": {
        "id": "7cGjlemXdG5S"
      },
      "source": [
        "with open(\"test.txt\", 'w') as f:\n",
        "    f.write('지금 파이썬 연습중')"
      ],
      "execution_count": null,
      "outputs": []
    },
    {
      "cell_type": "code",
      "metadata": {
        "id": "HZQN9DNEdG5U",
        "colab": {
          "base_uri": "https://localhost:8080/"
        },
        "outputId": "5c6d4bef-4d25-4bfd-8c2b-745475ca022d"
      },
      "source": [
        "with open(\"test.txt\") as f:\n",
        "    data = f.read()\n",
        "    print(data)"
      ],
      "execution_count": null,
      "outputs": [
        {
          "output_type": "stream",
          "name": "stdout",
          "text": [
            "지금 파이썬 연습중\n"
          ]
        }
      ]
    },
    {
      "cell_type": "code",
      "metadata": {
        "id": "VXJatE2vdG5X",
        "colab": {
          "base_uri": "https://localhost:8080/"
        },
        "outputId": "e894ae21-bcc4-488e-d31d-a1e1e71f1a29"
      },
      "source": [
        "!ls # command 사용하려면 !사용"
      ],
      "execution_count": null,
      "outputs": [
        {
          "output_type": "stream",
          "name": "stdout",
          "text": [
            "sample_data  test.txt\n"
          ]
        }
      ]
    },
    {
      "cell_type": "code",
      "metadata": {
        "colab": {
          "base_uri": "https://localhost:8080/"
        },
        "id": "g0QzWV0794Qu",
        "outputId": "e3f6ad2e-59b1-449e-e75e-14b042d5b038"
      },
      "source": [
        "!pwd"
      ],
      "execution_count": null,
      "outputs": [
        {
          "output_type": "stream",
          "name": "stdout",
          "text": [
            "/content\n"
          ]
        }
      ]
    },
    {
      "cell_type": "code",
      "metadata": {
        "id": "3r3a1SpF96wB",
        "colab": {
          "base_uri": "https://localhost:8080/"
        },
        "outputId": "f1afc4b0-d21d-4ca7-8954-2b18613b0ddf"
      },
      "source": [
        "pip install icecream # 디버깅할때 사용하는 라이브러리 인스톨 느낌표 없이도 가능"
      ],
      "execution_count": null,
      "outputs": [
        {
          "output_type": "stream",
          "name": "stdout",
          "text": [
            "Looking in indexes: https://pypi.org/simple, https://us-python.pkg.dev/colab-wheels/public/simple/\n",
            "Collecting icecream\n",
            "  Downloading icecream-2.1.2-py2.py3-none-any.whl (8.3 kB)\n",
            "Requirement already satisfied: pygments>=2.2.0 in /usr/local/lib/python3.7/dist-packages (from icecream) (2.6.1)\n",
            "Collecting colorama>=0.3.9\n",
            "  Downloading colorama-0.4.5-py2.py3-none-any.whl (16 kB)\n",
            "Collecting executing>=0.3.1\n",
            "  Downloading executing-0.8.3-py2.py3-none-any.whl (16 kB)\n",
            "Collecting asttokens>=2.0.1\n",
            "  Downloading asttokens-2.0.5-py2.py3-none-any.whl (20 kB)\n",
            "Requirement already satisfied: six in /usr/local/lib/python3.7/dist-packages (from asttokens>=2.0.1->icecream) (1.15.0)\n",
            "Installing collected packages: executing, colorama, asttokens, icecream\n",
            "Successfully installed asttokens-2.0.5 colorama-0.4.5 executing-0.8.3 icecream-2.1.2\n"
          ]
        }
      ]
    },
    {
      "cell_type": "code",
      "source": [
        ""
      ],
      "metadata": {
        "id": "-LfdCGen8h4X"
      },
      "execution_count": null,
      "outputs": []
    }
  ]
}