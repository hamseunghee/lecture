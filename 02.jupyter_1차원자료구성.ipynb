{
 "cells": [
  {
   "cell_type": "markdown",
   "id": "c61854a5",
   "metadata": {},
   "source": [
    "# jupyter 1차원 자료구성\n"
   ]
  },
  {
   "cell_type": "code",
   "execution_count": 31,
   "id": "8caeb570",
   "metadata": {},
   "outputs": [],
   "source": [
    "import pandas as pd\n",
    "#판다스라이이브러를 불러서 pd명령으로 짧게 호출할 수 있게 정의"
   ]
  },
  {
   "cell_type": "markdown",
   "id": "fb17c79f",
   "metadata": {},
   "source": [
    "# 1. 1차원 데이터"
   ]
  },
  {
   "cell_type": "markdown",
   "id": "81d92896",
   "metadata": {},
   "source": [
    "## 1월부터 4월까지 강우량 (10, 20, 30, 40)"
   ]
  },
  {
   "cell_type": "code",
   "execution_count": 32,
   "id": "1d071f17",
   "metadata": {
    "scrolled": true
   },
   "outputs": [
    {
     "data": {
      "text/plain": [
       "0    10\n",
       "1    20\n",
       "2    30\n",
       "3    40\n",
       "dtype: int64"
      ]
     },
     "execution_count": 32,
     "metadata": {},
     "output_type": "execute_result"
    }
   ],
   "source": [
    "rain = pd.Series([10, 20, 30, 40])\n",
    "rain"
   ]
  },
  {
   "cell_type": "code",
   "execution_count": 33,
   "id": "66f1c6c4",
   "metadata": {},
   "outputs": [
    {
     "data": {
      "text/plain": [
       "10"
      ]
     },
     "execution_count": 33,
     "metadata": {},
     "output_type": "execute_result"
    }
   ],
   "source": [
    "rain[0] # 1월 강우량\n",
    "# 1차원선언에서는 첫번째 주소가 0, 두번째가 1, 4번째가 3으로 선언"
   ]
  },
  {
   "cell_type": "code",
   "execution_count": 34,
   "id": "bae44bc5",
   "metadata": {},
   "outputs": [
    {
     "data": {
      "text/plain": [
       "30"
      ]
     },
     "execution_count": 34,
     "metadata": {},
     "output_type": "execute_result"
    }
   ],
   "source": [
    "rain[2] # 3월 강우량"
   ]
  },
  {
   "cell_type": "markdown",
   "id": "7e6cfae9",
   "metadata": {},
   "source": [
    "# Index"
   ]
  },
  {
   "cell_type": "code",
   "execution_count": 35,
   "id": "7943d7a6",
   "metadata": {},
   "outputs": [
    {
     "name": "stdout",
     "output_type": "stream",
     "text": [
      "Jan    10\n",
      "Feb    20\n",
      "Mar    30\n",
      "Apr    40\n",
      "dtype: int64\n"
     ]
    }
   ],
   "source": [
    "rain = pd.Series([10, 20, 30, 40], index=['Jan', 'Feb', 'Mar', 'Apr'])\n",
    "print(rain)"
   ]
  },
  {
   "cell_type": "code",
   "execution_count": 36,
   "id": "e0c54e1a",
   "metadata": {},
   "outputs": [
    {
     "data": {
      "text/plain": [
       "Jan    10\n",
       "Feb    20\n",
       "Mar    30\n",
       "Apr    40\n",
       "dtype: int64"
      ]
     },
     "execution_count": 36,
     "metadata": {},
     "output_type": "execute_result"
    }
   ],
   "source": [
    "rain"
   ]
  },
  {
   "cell_type": "code",
   "execution_count": 37,
   "id": "1cf7a6b9",
   "metadata": {},
   "outputs": [
    {
     "data": {
      "text/plain": [
       "10"
      ]
     },
     "execution_count": 37,
     "metadata": {},
     "output_type": "execute_result"
    }
   ],
   "source": [
    "rain['Jan'] # Index Jan (1월) 에 해당하는 데이터 출력"
   ]
  },
  {
   "cell_type": "code",
   "execution_count": 38,
   "id": "e387be9a",
   "metadata": {},
   "outputs": [
    {
     "data": {
      "text/plain": [
       "40"
      ]
     },
     "execution_count": 38,
     "metadata": {},
     "output_type": "execute_result"
    }
   ],
   "source": [
    "rain['Apr'] # Index Apr (4월) 에 해당하는 데이터 출력"
   ]
  },
  {
   "cell_type": "code",
   "execution_count": null,
   "id": "bfcf9a2e",
   "metadata": {},
   "outputs": [],
   "source": []
  }
 ],
 "metadata": {
  "kernelspec": {
   "display_name": "Python 3 (ipykernel)",
   "language": "python",
   "name": "python3"
  },
  "language_info": {
   "codemirror_mode": {
    "name": "ipython",
    "version": 3
   },
   "file_extension": ".py",
   "mimetype": "text/x-python",
   "name": "python",
   "nbconvert_exporter": "python",
   "pygments_lexer": "ipython3",
   "version": "3.9.12"
  }
 },
 "nbformat": 4,
 "nbformat_minor": 5
}
