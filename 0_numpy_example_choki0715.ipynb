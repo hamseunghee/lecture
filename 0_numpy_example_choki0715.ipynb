{
  "nbformat": 4,
  "nbformat_minor": 0,
  "metadata": {
    "colab": {
      "name": "numpy_example_choki0715",
      "provenance": [],
      "collapsed_sections": [],
      "include_colab_link": true
    },
    "kernelspec": {
      "name": "python3",
      "display_name": "Python 3"
    }
  },
  "cells": [
    {
      "cell_type": "markdown",
      "metadata": {
        "id": "view-in-github",
        "colab_type": "text"
      },
      "source": [
        "<a href=\"https://colab.research.google.com/github/jstrend/lecture/blob/main/numpy_example_choki0715.ipynb\" target=\"_parent\"><img src=\"https://colab.research.google.com/assets/colab-badge.svg\" alt=\"Open In Colab\"/></a>"
      ]
    },
    {
      "cell_type": "code",
      "metadata": {
        "id": "hIMhopxEtoXg",
        "colab": {
          "base_uri": "https://localhost:8080/"
        },
        "outputId": "545558cb-9483-470d-d922-c133a98f0e40"
      },
      "source": [
        "import numpy as np # numpy는 클래스 numpy.array는 넘파이 클래스 하부 함수\n",
        "\n",
        "# ndarray basic\n",
        "a = np.array([1, 2, 3])   # Create a rank 1 array\n",
        "print(type(a))            # Prints \"<class 'numpy.ndarray'>\"\n",
        "print(a.shape)            # Prints \"(3,)\"\n",
        "print(a[0], a[1], a[2])   # Prints \"1 2 3\"\n",
        "a[0] = 5                  # Change an element of the array\n",
        "print(a)                  # Prints \"[5, 2, 3]\"\n",
        "\n",
        "b = np.array([[1,2,3],[4,5,6]])    # Create a rank 2 dimension array indexing할때는 ,사용 \n",
        "print(b.shape)                     # Prints \"(2, 3)\"\n",
        "print(b[0, 0], b[0, 1], b[1, 0])   # Prints \"1 2 4\""
      ],
      "execution_count": null,
      "outputs": [
        {
          "output_type": "stream",
          "name": "stdout",
          "text": [
            "<class 'numpy.ndarray'>\n",
            "(3,)\n",
            "1 2 3\n",
            "[5 2 3]\n",
            "(2, 3)\n",
            "1 2 4\n"
          ]
        }
      ]
    },
    {
      "cell_type": "code",
      "metadata": {
        "colab": {
          "base_uri": "https://localhost:8080/"
        },
        "id": "e1Bgpk3K0uWh",
        "outputId": "a36ee71e-d5af-4263-aef0-65716635b486"
      },
      "source": [
        "# ndarray 설정\n",
        "\n",
        "a = np.zeros((2,2))   # Create an array of all zeros\n",
        "print(a)              # Prints \"[[ 0.  0.]\n",
        "                      #          [ 0.  0.]]\"\n",
        "\n",
        "b = np.ones((1,2))    # Create an array of all ones\n",
        "print(b)              # Prints \"[[ 1.  1.]]\"\n",
        "\n",
        "c = np.full((2,2), 7)  # Create a constant array with 7\n",
        "print(c)               # Prints \"[[ 7.  7.]\n",
        "                       #          [ 7.  7.]]\"\n",
        "\n",
        "d = np.eye(2)         # Create a 2x2 identity matrix with eye\n",
        "print(d)              # Prints \"[[ 1.  0.]\n",
        "                      #          [ 0.  1.]]\"\n",
        "\n",
        "e = np.random.random((2,2))  # Create an array filled with random values\n",
        "print(e)                     # Might print \"[[ 0.91940167  0.08143941]\n",
        "                             #               [ 0.68744134  0.87236687]]\"\n",
        "\n",
        "f = np.empty((3,3)) # empty는 쓰레기 값을 보여줌, 보통 초기화해서 사용해야 함\n",
        "print(f)"
      ],
      "execution_count": null,
      "outputs": [
        {
          "output_type": "stream",
          "name": "stdout",
          "text": [
            "[[0. 0.]\n",
            " [0. 0.]]\n",
            "[[1. 1.]]\n",
            "[[7 7]\n",
            " [7 7]]\n",
            "[[1. 0.]\n",
            " [0. 1.]]\n",
            "[[0.81562443 0.5325044 ]\n",
            " [0.83952282 0.97618825]]\n",
            "[[4.68937941e-310 4.68937940e-310 4.68937940e-310]\n",
            " [4.68937940e-310 4.68937940e-310 4.68937940e-310]\n",
            " [0.00000000e+000 0.00000000e+000 0.00000000e+000]]\n"
          ]
        }
      ]
    },
    {
      "cell_type": "code",
      "metadata": {
        "colab": {
          "base_uri": "https://localhost:8080/"
        },
        "id": "Xrvn0LJ-231C",
        "outputId": "7b19c9bf-9bda-4f99-d775-d3b21459bf97"
      },
      "source": [
        "# indexing 인덱싱\n",
        "\n",
        "a = np.array([[1,2], [3, 4], [5, 6]])\n",
        "\n",
        "# An example of integer array indexing.\n",
        "# The returned array will have shape (3,) and\n",
        "print(a[[0, 1, 2], [0, 1, 0]])  # Prints \"[1 4 5]\" a는 3x2 어레이, (행위치,열위치)로 쌍을 만들어 페어로 사용\n",
        "\n",
        "# The above example of integer array indexing is equivalent to this:\n",
        "print(np.array([a[0, 0], a[1, 1], a[2, 0]]))  # Prints \"[1 4 5]\"\n",
        "\n",
        "# When using integer array indexing, you can reuse the same\n",
        "# element from the source array:\n",
        "print(a[[0, 0], [1, 1]])  # Prints \"[2 2]\"\n",
        "\n",
        "# Equivalent to the previous integer array indexing example\n",
        "print(np.array([a[0, 1], a[0, 1]]))  # Prints \"[2 2]\""
      ],
      "execution_count": null,
      "outputs": [
        {
          "output_type": "stream",
          "name": "stdout",
          "text": [
            "[1 4 5]\n",
            "[1 4 5]\n",
            "[2 2]\n",
            "[2 2]\n"
          ]
        }
      ]
    },
    {
      "cell_type": "code",
      "metadata": {
        "colab": {
          "base_uri": "https://localhost:8080/"
        },
        "id": "-84tS1Yt6kuc",
        "outputId": "5904e2ac-95b9-4503-a26d-08580cb747a4"
      },
      "source": [
        "# Broadcasting 주요한 기능 Matlab과 비슷한 numpy\n",
        "\n",
        "import numpy as np\n",
        "\n",
        "# We will add the vector v to each row of the matrix x,\n",
        "# storing the result in the matrix y\n",
        "x = np.array([[1,2,3], [4,5,6], [7,8,9], [10, 11, 12]]) # 4x3 matrix\n",
        "w = np.array([[1,0,1], [1,0,1], [1,0,1], [1,0,1]])\n",
        "v = np.array([1, 0, 1]) # 1x3 matrix\n",
        "y1 = x + v  # Add v to each row of x using broadcasting 크기가 달라 더하기 어려우나 broadcasting하게 되서 모든 행에 모두 더해줌\n",
        "y2 = x + w\n",
        "print(\"y1 = \", y1, \"\\n y2 =\" , y2)  # y1 = Prints \"[[ 2  2  4]\n",
        "          #          [ 5  5  7]\n",
        "          #          [ 8  8 10]\n",
        "          #          [11 11 13]]\"\n",
        "          # y2 = x + w"
      ],
      "execution_count": 9,
      "outputs": [
        {
          "output_type": "stream",
          "name": "stdout",
          "text": [
            "y1 =  [[ 2  2  4]\n",
            " [ 5  5  7]\n",
            " [ 8  8 10]\n",
            " [11 11 13]] \n",
            " y2 = [[ 2  2  4]\n",
            " [ 5  5  7]\n",
            " [ 8  8 10]\n",
            " [11 11 13]]\n"
          ]
        }
      ]
    },
    {
      "cell_type": "code",
      "source": [
        "x = np.array([[1,2,3], [4,5,6], [7,8,9], [10, 11, 12]]) # 4x3 matrix\n",
        "w = np.array([[1,2,3], [4,5,6], [7,8,9], [10, 11, 12]])\n",
        "v = np.array([1, 0, 1, 0]) # 1x4 matrix\n",
        "v = v.reshape(4,1) \n",
        "y = x + v  # Add v to each row of x using broadcasting 크기가 달라 더하기 어려우나 broadcasting하게 되서 모든 열에 모두 더해줌\n",
        "print(\"y = \", y)  # y = Prints \"[[ 2  3  4]\n",
        "          #          [ 4  5  6]\n",
        "          #          [ 8  9 10]\n",
        "          #          [10 11 12]]\"\n",
        "          # y2 = x + w"
      ],
      "metadata": {
        "colab": {
          "base_uri": "https://localhost:8080/"
        },
        "id": "W8WBaiSxdJF6",
        "outputId": "15c60050-0075-4695-ed42-0af0fdea9160"
      },
      "execution_count": 12,
      "outputs": [
        {
          "output_type": "stream",
          "name": "stdout",
          "text": [
            "y =  [[ 2  3  4]\n",
            " [ 4  5  6]\n",
            " [ 8  9 10]\n",
            " [10 11 12]]\n"
          ]
        }
      ]
    },
    {
      "cell_type": "code",
      "metadata": {
        "colab": {
          "base_uri": "https://localhost:8080/"
        },
        "id": "e2j19jWM0eG6",
        "outputId": "9714b7be-aa06-4538-b637-b5c4c962ee08"
      },
      "source": [
        "# Math\n",
        "mat1 = np.ones((3,3))\n",
        "print(mat1)"
      ],
      "execution_count": null,
      "outputs": [
        {
          "output_type": "stream",
          "name": "stdout",
          "text": [
            "[[1. 1. 1.]\n",
            " [1. 1. 1.]\n",
            " [1. 1. 1.]]\n"
          ]
        }
      ]
    },
    {
      "cell_type": "code",
      "metadata": {
        "id": "YRysw2RztpzX",
        "colab": {
          "base_uri": "https://localhost:8080/"
        },
        "outputId": "0ab03736-601f-49af-f427-a3afb6fd7893"
      },
      "source": [
        "cnt = 1\n",
        "mat2 = np.zeros((3,3))\n",
        "for i in range(3):\n",
        "  for j in range(3):\n",
        "    mat2[i,j] = mat1[i,j]*cnt\n",
        "    cnt = cnt + 1\n",
        "print(mat2)"
      ],
      "execution_count": null,
      "outputs": [
        {
          "output_type": "stream",
          "name": "stdout",
          "text": [
            "[[1. 2. 3.]\n",
            " [4. 5. 6.]\n",
            " [7. 8. 9.]]\n"
          ]
        }
      ]
    },
    {
      "cell_type": "code",
      "metadata": {
        "id": "fDxqjO0UuMBP",
        "colab": {
          "base_uri": "https://localhost:8080/"
        },
        "outputId": "00ff8b6a-3dc9-4cd6-e0f8-1ca32721aec3"
      },
      "source": [
        "mat3 = (mat1 + mat2) * mat2 - mat1/mat2\n",
        "print(mat3)\n",
        "\n",
        "mat3_1 = np.subtract( np.multiply( np.add(mat1, mat2), mat2), np.divide(mat1,mat2) ) # np.multiply는 사이즈가 같으면 요소간 곱하기\n",
        "print(mat3_1)"
      ],
      "execution_count": null,
      "outputs": [
        {
          "output_type": "stream",
          "name": "stdout",
          "text": [
            "[[ 1.          5.5        11.66666667]\n",
            " [19.75       29.8        41.83333333]\n",
            " [55.85714286 71.875      89.88888889]]\n",
            "[[ 1.          5.5        11.66666667]\n",
            " [19.75       29.8        41.83333333]\n",
            " [55.85714286 71.875      89.88888889]]\n"
          ]
        }
      ]
    },
    {
      "cell_type": "code",
      "metadata": {
        "id": "s6VY6DHTulaK",
        "colab": {
          "base_uri": "https://localhost:8080/"
        },
        "outputId": "ebac6c65-25bc-4f9d-9ec8-0db1041c7d12"
      },
      "source": [
        "mat4 = np.dot(mat2, mat3) # 가능하면 matmul을 사용 dot는 다른 라이브러리 사용x\n",
        "print(mat4)"
      ],
      "execution_count": null,
      "outputs": [
        {
          "output_type": "stream",
          "name": "stdout",
          "text": [
            "[[ 208.07142857  280.725       365.        ]\n",
            " [ 437.89285714  602.25        795.16666667]\n",
            " [ 667.71428571  923.775      1225.33333333]]\n"
          ]
        }
      ]
    },
    {
      "cell_type": "code",
      "metadata": {
        "id": "e1_tVJ7nurcL",
        "colab": {
          "base_uri": "https://localhost:8080/"
        },
        "outputId": "7a0ed2bd-2973-4407-c69d-2020c2538aa5"
      },
      "source": [
        "mat5 = np.matmul(mat2, mat3) # matmul은 행렬 곱\n",
        "print(mat5)"
      ],
      "execution_count": null,
      "outputs": [
        {
          "output_type": "stream",
          "name": "stdout",
          "text": [
            "[[ 208.07142857  280.725       365.        ]\n",
            " [ 437.89285714  602.25        795.16666667]\n",
            " [ 667.71428571  923.775      1225.33333333]]\n"
          ]
        }
      ]
    },
    {
      "cell_type": "code",
      "metadata": {
        "id": "1LgST1Hr1BPF",
        "colab": {
          "base_uri": "https://localhost:8080/"
        },
        "outputId": "408b11f7-8391-4034-b92d-d45693b9c26d"
      },
      "source": [
        "vec = np.array([1,2,3])\n",
        "print(vec)"
      ],
      "execution_count": null,
      "outputs": [
        {
          "output_type": "stream",
          "name": "stdout",
          "text": [
            "[1 2 3]\n"
          ]
        }
      ]
    },
    {
      "cell_type": "code",
      "metadata": {
        "id": "uADGpgcw1wLD",
        "colab": {
          "base_uri": "https://localhost:8080/"
        },
        "outputId": "df058aa5-bc94-45e8-8e20-7938f7a3757b"
      },
      "source": [
        "mat6 = np.dot(mat2, vec)\n",
        "print(mat6)"
      ],
      "execution_count": null,
      "outputs": [
        {
          "output_type": "stream",
          "name": "stdout",
          "text": [
            "[14. 32. 50.]\n"
          ]
        }
      ]
    },
    {
      "cell_type": "code",
      "metadata": {
        "id": "nkUL0Rcw16oR",
        "colab": {
          "base_uri": "https://localhost:8080/"
        },
        "outputId": "b288c69f-9097-4eab-f64a-876b1917cc7f"
      },
      "source": [
        "mat7 = np.matmul(mat2, vec)\n",
        "print(mat7)"
      ],
      "execution_count": null,
      "outputs": [
        {
          "output_type": "stream",
          "name": "stdout",
          "text": [
            "[14. 32. 50.]\n"
          ]
        }
      ]
    },
    {
      "cell_type": "code",
      "metadata": {
        "id": "s_m33map2tXP"
      },
      "source": [
        ""
      ],
      "execution_count": null,
      "outputs": []
    }
  ]
}
