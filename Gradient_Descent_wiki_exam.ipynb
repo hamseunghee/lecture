{
  "nbformat": 4,
  "nbformat_minor": 0,
  "metadata": {
    "colab": {
      "name": "Gradient_Descent_wiki_exam.ipynb",
      "private_outputs": true,
      "provenance": [],
      "authorship_tag": "ABX9TyMGH219+AgGhrvTfWlOHVZu",
      "include_colab_link": true
    },
    "kernelspec": {
      "name": "python3",
      "display_name": "Python 3"
    },
    "language_info": {
      "name": "python"
    }
  },
  "cells": [
    {
      "cell_type": "markdown",
      "metadata": {
        "id": "view-in-github",
        "colab_type": "text"
      },
      "source": [
        "<a href=\"https://colab.research.google.com/github/jstrend/lecture/blob/main/Gradient_Descent_wiki_exam.ipynb\" target=\"_parent\"><img src=\"https://colab.research.google.com/assets/colab-badge.svg\" alt=\"Open In Colab\"/></a>"
      ]
    },
    {
      "cell_type": "code",
      "execution_count": null,
      "metadata": {
        "id": "JJzMml5vg0Gu"
      },
      "outputs": [],
      "source": [
        "# From calculation, we expect that the local minimum occurs at x=9/4\n",
        "\n",
        "x_old = 0\n",
        "x_new = 6 # The algorithm starts at x=6\n",
        "eps = 0.01 # step size\n",
        "precision = 0.00001\n",
        "\n",
        "def f_prime(x):\n",
        "    return 4 * x**3 - 9 * x**2\n",
        "\n",
        "while abs(x_new - x_old) > precision:\n",
        "    x_old = x_new\n",
        "    x_new = x_old - eps * f_prime(x_old)\n",
        "\n",
        "print(f\"Local minimum occurs at: {x_new}\")"
      ]
    }
  ]
}