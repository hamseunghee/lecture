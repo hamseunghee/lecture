{
 "cells": [
  {
   "cell_type": "markdown",
   "id": "a731c28b",
   "metadata": {
    "slideshow": {
     "slide_type": "slide"
    }
   },
   "source": [
    "#  jupyter 기본명령\n"
   ]
  },
  {
   "cell_type": "markdown",
   "id": "bb31b1a5",
   "metadata": {
    "slideshow": {
     "slide_type": "slide"
    }
   },
   "source": [
    "## 상단에 노트의 이름 입력"
   ]
  },
  {
   "cell_type": "markdown",
   "id": "ffd43b12",
   "metadata": {
    "slideshow": {
     "slide_type": "slide"
    }
   },
   "source": [
    "## 지금 이 줄은 하나의 셀(Cell)"
   ]
  },
  {
   "cell_type": "markdown",
   "id": "c58bea40",
   "metadata": {
    "slideshow": {
     "slide_type": "slide"
    }
   },
   "source": [
    "## 셀 유형은 Code, Makrdown, Raw NBConvert, Heading"
   ]
  },
  {
   "cell_type": "markdown",
   "id": "39e57e5a",
   "metadata": {
    "slideshow": {
     "slide_type": "slide"
    }
   },
   "source": [
    "## Code: 셀에 입력한 내용으로 python언어로 처리\n",
    "\n",
    "## Makrdown: 셀에 입력한 내용을 디스플레이 용으로 처리"
   ]
  },
  {
   "cell_type": "markdown",
   "id": "0a50beb1",
   "metadata": {
    "slideshow": {
     "slide_type": "slide"
    }
   },
   "source": [
    "## Code: 셀을 선택하고 y입력\n",
    "\n",
    "## Makkdown: 셀을 선택하고 m입력"
   ]
  },
  {
   "cell_type": "markdown",
   "id": "81e60e6a",
   "metadata": {
    "slideshow": {
     "slide_type": "slide"
    }
   },
   "source": [
    "## 셀 실행 후 다음셀로: shift + Enter\n",
    "\n",
    "## 셀 실행:  Ctrl + Enter\n",
    "\n",
    "## 셀 실행 후 셀 삽입: Alt + Enter"
   ]
  },
  {
   "cell_type": "markdown",
   "id": "ce53f63f",
   "metadata": {
    "slideshow": {
     "slide_type": "slide"
    }
   },
   "source": [
    "## 셀 나누기: Ctrl + shift + -(키 자판 상단 0 옆)\n",
    "\n",
    "## 아래 셀 합치기: 셀 선택 후 shift + m"
   ]
  },
  {
   "cell_type": "markdown",
   "id": "704c2ece",
   "metadata": {
    "slideshow": {
     "slide_type": "slide"
    }
   },
   "source": [
    "## 하단에 셀 삽입: 셀 선택 후 b\n",
    "\n",
    "## 상단에 셀 삽입: 셀 선택 후 a"
   ]
  },
  {
   "cell_type": "markdown",
   "id": "b3502789",
   "metadata": {
    "slideshow": {
     "slide_type": "slide"
    }
   },
   "source": [
    "## 셀 삭제: 셀 선택후 dd\n",
    "\n",
    "## 셀 잘라내기: 셀 선택 후 x\n",
    "\n",
    "## 셀 복사하기 : 셀  선택 후 c\n",
    "\n",
    "## 셀 상단에 붙이기: 셀 선택 후 shift + v\n",
    "\n",
    "## 셀 하단에 붙이기: 셀 선택 후 v"
   ]
  },
  {
   "cell_type": "markdown",
   "id": "37dac817",
   "metadata": {
    "slideshow": {
     "slide_type": "slide"
    }
   },
   "source": [
    "## 코드에서는 #을 입력 후에 추가한 텍스트는 코드로 인식 x"
   ]
  }
 ],
 "metadata": {
  "kernelspec": {
   "display_name": "Python 3 (ipykernel)",
   "language": "python",
   "name": "python3"
  },
  "language_info": {
   "codemirror_mode": {
    "name": "ipython",
    "version": 3
   },
   "file_extension": ".py",
   "mimetype": "text/x-python",
   "name": "python",
   "nbconvert_exporter": "python",
   "pygments_lexer": "ipython3",
   "version": "3.9.12"
  }
 },
 "nbformat": 4,
 "nbformat_minor": 5
}
